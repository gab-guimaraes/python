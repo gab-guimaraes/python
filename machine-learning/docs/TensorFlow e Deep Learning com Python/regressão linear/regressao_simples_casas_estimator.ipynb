{
 "cells": [
  {
   "cell_type": "code",
   "execution_count": 47,
   "metadata": {},
   "outputs": [
    {
     "data": {
      "text/html": [
       "<div>\n",
       "<style scoped>\n",
       "    .dataframe tbody tr th:only-of-type {\n",
       "        vertical-align: middle;\n",
       "    }\n",
       "\n",
       "    .dataframe tbody tr th {\n",
       "        vertical-align: top;\n",
       "    }\n",
       "\n",
       "    .dataframe thead th {\n",
       "        text-align: right;\n",
       "    }\n",
       "</style>\n",
       "<table border=\"1\" class=\"dataframe\">\n",
       "  <thead>\n",
       "    <tr style=\"text-align: right;\">\n",
       "      <th></th>\n",
       "      <th>id</th>\n",
       "      <th>date</th>\n",
       "      <th>price</th>\n",
       "      <th>bedrooms</th>\n",
       "      <th>bathrooms</th>\n",
       "      <th>sqft_living</th>\n",
       "      <th>sqft_lot</th>\n",
       "      <th>floors</th>\n",
       "      <th>waterfront</th>\n",
       "      <th>view</th>\n",
       "      <th>...</th>\n",
       "      <th>grade</th>\n",
       "      <th>sqft_above</th>\n",
       "      <th>sqft_basement</th>\n",
       "      <th>yr_built</th>\n",
       "      <th>yr_renovated</th>\n",
       "      <th>zipcode</th>\n",
       "      <th>lat</th>\n",
       "      <th>long</th>\n",
       "      <th>sqft_living15</th>\n",
       "      <th>sqft_lot15</th>\n",
       "    </tr>\n",
       "  </thead>\n",
       "  <tbody>\n",
       "    <tr>\n",
       "      <th>0</th>\n",
       "      <td>7129300520</td>\n",
       "      <td>20141013T000000</td>\n",
       "      <td>221900.0</td>\n",
       "      <td>3</td>\n",
       "      <td>1.00</td>\n",
       "      <td>1180</td>\n",
       "      <td>5650</td>\n",
       "      <td>1.0</td>\n",
       "      <td>0</td>\n",
       "      <td>0</td>\n",
       "      <td>...</td>\n",
       "      <td>7</td>\n",
       "      <td>1180</td>\n",
       "      <td>0</td>\n",
       "      <td>1955</td>\n",
       "      <td>0</td>\n",
       "      <td>98178</td>\n",
       "      <td>47.5112</td>\n",
       "      <td>-122.257</td>\n",
       "      <td>1340</td>\n",
       "      <td>5650</td>\n",
       "    </tr>\n",
       "    <tr>\n",
       "      <th>1</th>\n",
       "      <td>6414100192</td>\n",
       "      <td>20141209T000000</td>\n",
       "      <td>538000.0</td>\n",
       "      <td>3</td>\n",
       "      <td>2.25</td>\n",
       "      <td>2570</td>\n",
       "      <td>7242</td>\n",
       "      <td>2.0</td>\n",
       "      <td>0</td>\n",
       "      <td>0</td>\n",
       "      <td>...</td>\n",
       "      <td>7</td>\n",
       "      <td>2170</td>\n",
       "      <td>400</td>\n",
       "      <td>1951</td>\n",
       "      <td>1991</td>\n",
       "      <td>98125</td>\n",
       "      <td>47.7210</td>\n",
       "      <td>-122.319</td>\n",
       "      <td>1690</td>\n",
       "      <td>7639</td>\n",
       "    </tr>\n",
       "    <tr>\n",
       "      <th>2</th>\n",
       "      <td>5631500400</td>\n",
       "      <td>20150225T000000</td>\n",
       "      <td>180000.0</td>\n",
       "      <td>2</td>\n",
       "      <td>1.00</td>\n",
       "      <td>770</td>\n",
       "      <td>10000</td>\n",
       "      <td>1.0</td>\n",
       "      <td>0</td>\n",
       "      <td>0</td>\n",
       "      <td>...</td>\n",
       "      <td>6</td>\n",
       "      <td>770</td>\n",
       "      <td>0</td>\n",
       "      <td>1933</td>\n",
       "      <td>0</td>\n",
       "      <td>98028</td>\n",
       "      <td>47.7379</td>\n",
       "      <td>-122.233</td>\n",
       "      <td>2720</td>\n",
       "      <td>8062</td>\n",
       "    </tr>\n",
       "    <tr>\n",
       "      <th>3</th>\n",
       "      <td>2487200875</td>\n",
       "      <td>20141209T000000</td>\n",
       "      <td>604000.0</td>\n",
       "      <td>4</td>\n",
       "      <td>3.00</td>\n",
       "      <td>1960</td>\n",
       "      <td>5000</td>\n",
       "      <td>1.0</td>\n",
       "      <td>0</td>\n",
       "      <td>0</td>\n",
       "      <td>...</td>\n",
       "      <td>7</td>\n",
       "      <td>1050</td>\n",
       "      <td>910</td>\n",
       "      <td>1965</td>\n",
       "      <td>0</td>\n",
       "      <td>98136</td>\n",
       "      <td>47.5208</td>\n",
       "      <td>-122.393</td>\n",
       "      <td>1360</td>\n",
       "      <td>5000</td>\n",
       "    </tr>\n",
       "    <tr>\n",
       "      <th>4</th>\n",
       "      <td>1954400510</td>\n",
       "      <td>20150218T000000</td>\n",
       "      <td>510000.0</td>\n",
       "      <td>3</td>\n",
       "      <td>2.00</td>\n",
       "      <td>1680</td>\n",
       "      <td>8080</td>\n",
       "      <td>1.0</td>\n",
       "      <td>0</td>\n",
       "      <td>0</td>\n",
       "      <td>...</td>\n",
       "      <td>8</td>\n",
       "      <td>1680</td>\n",
       "      <td>0</td>\n",
       "      <td>1987</td>\n",
       "      <td>0</td>\n",
       "      <td>98074</td>\n",
       "      <td>47.6168</td>\n",
       "      <td>-122.045</td>\n",
       "      <td>1800</td>\n",
       "      <td>7503</td>\n",
       "    </tr>\n",
       "  </tbody>\n",
       "</table>\n",
       "<p>5 rows × 21 columns</p>\n",
       "</div>"
      ],
      "text/plain": [
       "           id             date     price  bedrooms  bathrooms  sqft_living  \\\n",
       "0  7129300520  20141013T000000  221900.0         3       1.00         1180   \n",
       "1  6414100192  20141209T000000  538000.0         3       2.25         2570   \n",
       "2  5631500400  20150225T000000  180000.0         2       1.00          770   \n",
       "3  2487200875  20141209T000000  604000.0         4       3.00         1960   \n",
       "4  1954400510  20150218T000000  510000.0         3       2.00         1680   \n",
       "\n",
       "   sqft_lot  floors  waterfront  view     ...      grade  sqft_above  \\\n",
       "0      5650     1.0           0     0     ...          7        1180   \n",
       "1      7242     2.0           0     0     ...          7        2170   \n",
       "2     10000     1.0           0     0     ...          6         770   \n",
       "3      5000     1.0           0     0     ...          7        1050   \n",
       "4      8080     1.0           0     0     ...          8        1680   \n",
       "\n",
       "   sqft_basement  yr_built  yr_renovated  zipcode      lat     long  \\\n",
       "0              0      1955             0    98178  47.5112 -122.257   \n",
       "1            400      1951          1991    98125  47.7210 -122.319   \n",
       "2              0      1933             0    98028  47.7379 -122.233   \n",
       "3            910      1965             0    98136  47.5208 -122.393   \n",
       "4              0      1987             0    98074  47.6168 -122.045   \n",
       "\n",
       "   sqft_living15  sqft_lot15  \n",
       "0           1340        5650  \n",
       "1           1690        7639  \n",
       "2           2720        8062  \n",
       "3           1360        5000  \n",
       "4           1800        7503  \n",
       "\n",
       "[5 rows x 21 columns]"
      ]
     },
     "execution_count": 47,
     "metadata": {},
     "output_type": "execute_result"
    }
   ],
   "source": [
    "import pandas as pd\n",
    "base = pd.read_csv('house_prices.csv')\n",
    "base.head()"
   ]
  },
  {
   "cell_type": "code",
   "execution_count": 48,
   "metadata": {},
   "outputs": [
    {
     "data": {
      "text/plain": [
       "(21613, 21)"
      ]
     },
     "execution_count": 48,
     "metadata": {},
     "output_type": "execute_result"
    }
   ],
   "source": [
    "base.shape"
   ]
  },
  {
   "cell_type": "code",
   "execution_count": 49,
   "metadata": {},
   "outputs": [],
   "source": [
    "X = base.iloc[:, 5:6].values\n",
    "y = base.iloc[:, 2:3].values"
   ]
  },
  {
   "cell_type": "code",
   "execution_count": 50,
   "metadata": {},
   "outputs": [
    {
     "data": {
      "text/plain": [
       "array([[1180],\n",
       "       [2570],\n",
       "       [ 770],\n",
       "       ...,\n",
       "       [1020],\n",
       "       [1600],\n",
       "       [1020]])"
      ]
     },
     "execution_count": 50,
     "metadata": {},
     "output_type": "execute_result"
    }
   ],
   "source": [
    "X"
   ]
  },
  {
   "cell_type": "code",
   "execution_count": 51,
   "metadata": {},
   "outputs": [
    {
     "data": {
      "text/plain": [
       "array([[221900.],\n",
       "       [538000.],\n",
       "       [180000.],\n",
       "       ...,\n",
       "       [402101.],\n",
       "       [400000.],\n",
       "       [325000.]])"
      ]
     },
     "execution_count": 51,
     "metadata": {},
     "output_type": "execute_result"
    }
   ],
   "source": [
    "y"
   ]
  },
  {
   "cell_type": "code",
   "execution_count": 52,
   "metadata": {},
   "outputs": [
    {
     "name": "stderr",
     "output_type": "stream",
     "text": [
      "/anaconda3/lib/python3.6/site-packages/sklearn/utils/validation.py:475: DataConversionWarning: Data with input dtype int64 was converted to float64 by StandardScaler.\n",
      "  warnings.warn(msg, DataConversionWarning)\n"
     ]
    }
   ],
   "source": [
    "from sklearn.preprocessing import StandardScaler\n",
    "scaler_x = StandardScaler()\n",
    "X = scaler_x.fit_transform(X)\n",
    "scaler_y = StandardScaler()\n",
    "y = scaler_y.fit_transform(y)"
   ]
  },
  {
   "cell_type": "code",
   "execution_count": 53,
   "metadata": {},
   "outputs": [
    {
     "data": {
      "text/plain": [
       "array([[-0.97983502],\n",
       "       [ 0.53363434],\n",
       "       [-1.42625404],\n",
       "       ...,\n",
       "       [-1.15404732],\n",
       "       [-0.52252773],\n",
       "       [-1.15404732]])"
      ]
     },
     "execution_count": 53,
     "metadata": {},
     "output_type": "execute_result"
    }
   ],
   "source": [
    "X"
   ]
  },
  {
   "cell_type": "code",
   "execution_count": 54,
   "metadata": {},
   "outputs": [
    {
     "data": {
      "text/plain": [
       "array([[-0.86671733],\n",
       "       [-0.00568792],\n",
       "       [-0.98084935],\n",
       "       ...,\n",
       "       [-0.37586519],\n",
       "       [-0.38158814],\n",
       "       [-0.58588173]])"
      ]
     },
     "execution_count": 54,
     "metadata": {},
     "output_type": "execute_result"
    }
   ],
   "source": [
    "y"
   ]
  },
  {
   "cell_type": "code",
   "execution_count": 55,
   "metadata": {},
   "outputs": [],
   "source": [
    "import tensorflow as tf"
   ]
  },
  {
   "cell_type": "code",
   "execution_count": 56,
   "metadata": {},
   "outputs": [],
   "source": [
    "colunas = [tf.feature_column.numeric_column('x', shape = [1])]"
   ]
  },
  {
   "cell_type": "code",
   "execution_count": 57,
   "metadata": {},
   "outputs": [
    {
     "data": {
      "text/plain": [
       "[_NumericColumn(key='x', shape=(1,), default_value=None, dtype=tf.float32, normalizer_fn=None)]"
      ]
     },
     "execution_count": 57,
     "metadata": {},
     "output_type": "execute_result"
    }
   ],
   "source": [
    "colunas"
   ]
  },
  {
   "cell_type": "code",
   "execution_count": 58,
   "metadata": {},
   "outputs": [
    {
     "name": "stdout",
     "output_type": "stream",
     "text": [
      "INFO:tensorflow:Using default config.\n",
      "WARNING:tensorflow:Using temporary folder as model directory: /var/folders/7f/wlmrltf57q95bdd5fl85dpw40000gn/T/tmp86d0rc19\n",
      "INFO:tensorflow:Using config: {'_model_dir': '/var/folders/7f/wlmrltf57q95bdd5fl85dpw40000gn/T/tmp86d0rc19', '_tf_random_seed': None, '_save_summary_steps': 100, '_save_checkpoints_steps': None, '_save_checkpoints_secs': 600, '_session_config': allow_soft_placement: true\n",
      "graph_options {\n",
      "  rewrite_options {\n",
      "    meta_optimizer_iterations: ONE\n",
      "  }\n",
      "}\n",
      ", '_keep_checkpoint_max': 5, '_keep_checkpoint_every_n_hours': 10000, '_log_step_count_steps': 100, '_train_distribute': None, '_device_fn': None, '_protocol': None, '_eval_distribute': None, '_experimental_distribute': None, '_service': None, '_cluster_spec': <tensorflow.python.training.server_lib.ClusterSpec object at 0x1a283e3668>, '_task_type': 'worker', '_task_id': 0, '_global_id_in_cluster': 0, '_master': '', '_evaluation_master': '', '_is_chief': True, '_num_ps_replicas': 0, '_num_worker_replicas': 1}\n"
     ]
    }
   ],
   "source": [
    "regressor = tf.estimator.LinearRegressor(feature_columns=colunas)"
   ]
  },
  {
   "cell_type": "code",
   "execution_count": 59,
   "metadata": {},
   "outputs": [],
   "source": [
    "from sklearn.model_selection import train_test_split\n",
    "X_treinamento, X_teste, y_treinamento, y_teste = train_test_split(X, y, test_size = 0.3)"
   ]
  },
  {
   "cell_type": "code",
   "execution_count": 60,
   "metadata": {},
   "outputs": [
    {
     "data": {
      "text/plain": [
       "(15129, 1)"
      ]
     },
     "execution_count": 60,
     "metadata": {},
     "output_type": "execute_result"
    }
   ],
   "source": [
    "X_treinamento.shape"
   ]
  },
  {
   "cell_type": "code",
   "execution_count": 61,
   "metadata": {},
   "outputs": [
    {
     "data": {
      "text/plain": [
       "(15129, 1)"
      ]
     },
     "execution_count": 61,
     "metadata": {},
     "output_type": "execute_result"
    }
   ],
   "source": [
    "y_treinamento.shape"
   ]
  },
  {
   "cell_type": "code",
   "execution_count": 62,
   "metadata": {},
   "outputs": [
    {
     "data": {
      "text/plain": [
       "(6484, 1)"
      ]
     },
     "execution_count": 62,
     "metadata": {},
     "output_type": "execute_result"
    }
   ],
   "source": [
    "X_teste.shape"
   ]
  },
  {
   "cell_type": "code",
   "execution_count": 63,
   "metadata": {},
   "outputs": [
    {
     "data": {
      "text/plain": [
       "(6484, 1)"
      ]
     },
     "execution_count": 63,
     "metadata": {},
     "output_type": "execute_result"
    }
   ],
   "source": [
    "y_teste.shape"
   ]
  },
  {
   "cell_type": "code",
   "execution_count": 64,
   "metadata": {},
   "outputs": [],
   "source": [
    "funcao_treinamento = tf.estimator.inputs.numpy_input_fn({'x': X_treinamento}, y_treinamento,\n",
    "                                                        batch_size = 32, num_epochs = None, \n",
    "                                                        shuffle = True)"
   ]
  },
  {
   "cell_type": "code",
   "execution_count": 65,
   "metadata": {},
   "outputs": [],
   "source": [
    "funcao_teste = tf.estimator.inputs.numpy_input_fn({'x': X_teste}, y_teste, batch_size = 32, \n",
    "                                                  num_epochs = 1000, shuffle = False)"
   ]
  },
  {
   "cell_type": "code",
   "execution_count": 66,
   "metadata": {},
   "outputs": [
    {
     "name": "stdout",
     "output_type": "stream",
     "text": [
      "INFO:tensorflow:Calling model_fn.\n",
      "INFO:tensorflow:Done calling model_fn.\n",
      "INFO:tensorflow:Create CheckpointSaverHook.\n",
      "INFO:tensorflow:Graph was finalized.\n",
      "INFO:tensorflow:Running local_init_op.\n",
      "INFO:tensorflow:Done running local_init_op.\n",
      "INFO:tensorflow:Saving checkpoints for 0 into /var/folders/7f/wlmrltf57q95bdd5fl85dpw40000gn/T/tmp86d0rc19/model.ckpt.\n",
      "INFO:tensorflow:loss = 10.2812195, step = 1\n",
      "INFO:tensorflow:global_step/sec: 935.638\n",
      "INFO:tensorflow:loss = 16.471153, step = 101 (0.108 sec)\n",
      "INFO:tensorflow:global_step/sec: 1091.75\n",
      "INFO:tensorflow:loss = 7.025251, step = 201 (0.092 sec)\n",
      "INFO:tensorflow:global_step/sec: 1199.18\n",
      "INFO:tensorflow:loss = 4.3612294, step = 301 (0.083 sec)\n",
      "INFO:tensorflow:global_step/sec: 1105.98\n",
      "INFO:tensorflow:loss = 33.310684, step = 401 (0.090 sec)\n",
      "INFO:tensorflow:global_step/sec: 1093.7\n",
      "INFO:tensorflow:loss = 11.092807, step = 501 (0.091 sec)\n",
      "INFO:tensorflow:global_step/sec: 1093.23\n",
      "INFO:tensorflow:loss = 12.377962, step = 601 (0.091 sec)\n",
      "INFO:tensorflow:global_step/sec: 1103.63\n",
      "INFO:tensorflow:loss = 8.160919, step = 701 (0.091 sec)\n",
      "INFO:tensorflow:global_step/sec: 1040.72\n",
      "INFO:tensorflow:loss = 17.473661, step = 801 (0.096 sec)\n",
      "INFO:tensorflow:global_step/sec: 1181.94\n",
      "INFO:tensorflow:loss = 14.777954, step = 901 (0.085 sec)\n",
      "INFO:tensorflow:global_step/sec: 1212.24\n",
      "INFO:tensorflow:loss = 11.322755, step = 1001 (0.083 sec)\n",
      "INFO:tensorflow:global_step/sec: 1085.6\n",
      "INFO:tensorflow:loss = 19.272816, step = 1101 (0.092 sec)\n",
      "INFO:tensorflow:global_step/sec: 1152.63\n",
      "INFO:tensorflow:loss = 19.904022, step = 1201 (0.087 sec)\n",
      "INFO:tensorflow:global_step/sec: 1132.16\n",
      "INFO:tensorflow:loss = 18.440659, step = 1301 (0.088 sec)\n",
      "INFO:tensorflow:global_step/sec: 1180.22\n",
      "INFO:tensorflow:loss = 16.344578, step = 1401 (0.085 sec)\n",
      "INFO:tensorflow:global_step/sec: 1195.17\n",
      "INFO:tensorflow:loss = 9.214833, step = 1501 (0.084 sec)\n",
      "INFO:tensorflow:global_step/sec: 1164.13\n",
      "INFO:tensorflow:loss = 27.915588, step = 1601 (0.086 sec)\n",
      "INFO:tensorflow:global_step/sec: 1154.58\n",
      "INFO:tensorflow:loss = 39.055885, step = 1701 (0.087 sec)\n",
      "INFO:tensorflow:global_step/sec: 1139.58\n",
      "INFO:tensorflow:loss = 9.800624, step = 1801 (0.088 sec)\n",
      "INFO:tensorflow:global_step/sec: 1116.77\n",
      "INFO:tensorflow:loss = 9.74959, step = 1901 (0.090 sec)\n",
      "INFO:tensorflow:global_step/sec: 1202.2\n",
      "INFO:tensorflow:loss = 11.743031, step = 2001 (0.083 sec)\n",
      "INFO:tensorflow:global_step/sec: 1194.47\n",
      "INFO:tensorflow:loss = 14.504379, step = 2101 (0.084 sec)\n",
      "INFO:tensorflow:global_step/sec: 1104.25\n",
      "INFO:tensorflow:loss = 8.707951, step = 2201 (0.091 sec)\n",
      "INFO:tensorflow:global_step/sec: 1092.17\n",
      "INFO:tensorflow:loss = 14.737711, step = 2301 (0.092 sec)\n",
      "INFO:tensorflow:global_step/sec: 1248.89\n",
      "INFO:tensorflow:loss = 10.684404, step = 2401 (0.080 sec)\n",
      "INFO:tensorflow:global_step/sec: 1203.11\n",
      "INFO:tensorflow:loss = 16.368591, step = 2501 (0.083 sec)\n",
      "INFO:tensorflow:global_step/sec: 1134.02\n",
      "INFO:tensorflow:loss = 7.2653837, step = 2601 (0.088 sec)\n",
      "INFO:tensorflow:global_step/sec: 1109.14\n",
      "INFO:tensorflow:loss = 14.593964, step = 2701 (0.090 sec)\n",
      "INFO:tensorflow:global_step/sec: 1213.33\n",
      "INFO:tensorflow:loss = 28.547777, step = 2801 (0.082 sec)\n",
      "INFO:tensorflow:global_step/sec: 1142.14\n",
      "INFO:tensorflow:loss = 5.3001814, step = 2901 (0.088 sec)\n",
      "INFO:tensorflow:global_step/sec: 1154.14\n",
      "INFO:tensorflow:loss = 8.946103, step = 3001 (0.087 sec)\n",
      "INFO:tensorflow:global_step/sec: 1218.73\n",
      "INFO:tensorflow:loss = 16.442081, step = 3101 (0.082 sec)\n",
      "INFO:tensorflow:global_step/sec: 1326.8\n",
      "INFO:tensorflow:loss = 14.400814, step = 3201 (0.075 sec)\n",
      "INFO:tensorflow:global_step/sec: 1181.56\n",
      "INFO:tensorflow:loss = 31.89001, step = 3301 (0.085 sec)\n",
      "INFO:tensorflow:global_step/sec: 1118.21\n",
      "INFO:tensorflow:loss = 10.986315, step = 3401 (0.089 sec)\n",
      "INFO:tensorflow:global_step/sec: 1280.6\n",
      "INFO:tensorflow:loss = 20.27642, step = 3501 (0.078 sec)\n",
      "INFO:tensorflow:global_step/sec: 1196.38\n",
      "INFO:tensorflow:loss = 27.647533, step = 3601 (0.084 sec)\n",
      "INFO:tensorflow:global_step/sec: 1270.67\n",
      "INFO:tensorflow:loss = 10.35154, step = 3701 (0.079 sec)\n",
      "INFO:tensorflow:global_step/sec: 1144.7\n",
      "INFO:tensorflow:loss = 37.686314, step = 3801 (0.087 sec)\n",
      "INFO:tensorflow:global_step/sec: 1142.92\n",
      "INFO:tensorflow:loss = 62.420246, step = 3901 (0.087 sec)\n",
      "INFO:tensorflow:global_step/sec: 1150.35\n",
      "INFO:tensorflow:loss = 31.962517, step = 4001 (0.087 sec)\n",
      "INFO:tensorflow:global_step/sec: 1252.09\n",
      "INFO:tensorflow:loss = 14.642309, step = 4101 (0.080 sec)\n",
      "INFO:tensorflow:global_step/sec: 1104.33\n",
      "INFO:tensorflow:loss = 24.024677, step = 4201 (0.091 sec)\n",
      "INFO:tensorflow:global_step/sec: 1061.56\n",
      "INFO:tensorflow:loss = 11.917845, step = 4301 (0.094 sec)\n",
      "INFO:tensorflow:global_step/sec: 1091.16\n",
      "INFO:tensorflow:loss = 11.553648, step = 4401 (0.092 sec)\n",
      "INFO:tensorflow:global_step/sec: 1097.84\n",
      "INFO:tensorflow:loss = 14.955545, step = 4501 (0.091 sec)\n",
      "INFO:tensorflow:global_step/sec: 1170.48\n",
      "INFO:tensorflow:loss = 8.634048, step = 4601 (0.086 sec)\n",
      "INFO:tensorflow:global_step/sec: 1170.67\n",
      "INFO:tensorflow:loss = 18.912207, step = 4701 (0.085 sec)\n",
      "INFO:tensorflow:global_step/sec: 1223.11\n",
      "INFO:tensorflow:loss = 8.083741, step = 4801 (0.082 sec)\n",
      "INFO:tensorflow:global_step/sec: 1152.1\n",
      "INFO:tensorflow:loss = 11.567635, step = 4901 (0.087 sec)\n",
      "INFO:tensorflow:global_step/sec: 1141.49\n",
      "INFO:tensorflow:loss = 11.37452, step = 5001 (0.088 sec)\n",
      "INFO:tensorflow:global_step/sec: 1105.78\n",
      "INFO:tensorflow:loss = 17.055408, step = 5101 (0.090 sec)\n",
      "INFO:tensorflow:global_step/sec: 1133.13\n",
      "INFO:tensorflow:loss = 14.415281, step = 5201 (0.088 sec)\n",
      "INFO:tensorflow:global_step/sec: 1180.12\n",
      "INFO:tensorflow:loss = 12.31567, step = 5301 (0.085 sec)\n",
      "INFO:tensorflow:global_step/sec: 1149.04\n",
      "INFO:tensorflow:loss = 16.908289, step = 5401 (0.087 sec)\n",
      "INFO:tensorflow:global_step/sec: 1127.3\n",
      "INFO:tensorflow:loss = 7.0362973, step = 5501 (0.089 sec)\n",
      "INFO:tensorflow:global_step/sec: 1069.38\n",
      "INFO:tensorflow:loss = 33.595203, step = 5601 (0.094 sec)\n",
      "INFO:tensorflow:global_step/sec: 1201.55\n",
      "INFO:tensorflow:loss = 4.924531, step = 5701 (0.083 sec)\n",
      "INFO:tensorflow:global_step/sec: 1252.27\n",
      "INFO:tensorflow:loss = 14.419741, step = 5801 (0.080 sec)\n",
      "INFO:tensorflow:global_step/sec: 1170.55\n",
      "INFO:tensorflow:loss = 20.171635, step = 5901 (0.085 sec)\n",
      "INFO:tensorflow:global_step/sec: 1130.81\n",
      "INFO:tensorflow:loss = 8.498156, step = 6001 (0.089 sec)\n",
      "INFO:tensorflow:global_step/sec: 1148.49\n",
      "INFO:tensorflow:loss = 26.15641, step = 6101 (0.087 sec)\n",
      "INFO:tensorflow:global_step/sec: 1109.04\n",
      "INFO:tensorflow:loss = 6.7624903, step = 6201 (0.090 sec)\n",
      "INFO:tensorflow:global_step/sec: 1231.38\n",
      "INFO:tensorflow:loss = 8.978146, step = 6301 (0.081 sec)\n",
      "INFO:tensorflow:global_step/sec: 1282.82\n",
      "INFO:tensorflow:loss = 20.653635, step = 6401 (0.078 sec)\n",
      "INFO:tensorflow:global_step/sec: 1054.01\n",
      "INFO:tensorflow:loss = 9.048622, step = 6501 (0.095 sec)\n",
      "INFO:tensorflow:global_step/sec: 1032.47\n",
      "INFO:tensorflow:loss = 8.053567, step = 6601 (0.096 sec)\n",
      "INFO:tensorflow:global_step/sec: 1125.49\n",
      "INFO:tensorflow:loss = 15.320948, step = 6701 (0.089 sec)\n",
      "INFO:tensorflow:global_step/sec: 1158.18\n",
      "INFO:tensorflow:loss = 15.296962, step = 6801 (0.086 sec)\n",
      "INFO:tensorflow:global_step/sec: 1133.31\n",
      "INFO:tensorflow:loss = 5.9379916, step = 6901 (0.088 sec)\n",
      "INFO:tensorflow:global_step/sec: 1133.48\n",
      "INFO:tensorflow:loss = 7.842997, step = 7001 (0.088 sec)\n",
      "INFO:tensorflow:global_step/sec: 1140.5\n",
      "INFO:tensorflow:loss = 9.551676, step = 7101 (0.088 sec)\n",
      "INFO:tensorflow:global_step/sec: 1146.72\n",
      "INFO:tensorflow:loss = 10.599392, step = 7201 (0.088 sec)\n",
      "INFO:tensorflow:global_step/sec: 1072.12\n",
      "INFO:tensorflow:loss = 9.849415, step = 7301 (0.093 sec)\n",
      "INFO:tensorflow:global_step/sec: 1174.37\n",
      "INFO:tensorflow:loss = 23.548191, step = 7401 (0.085 sec)\n",
      "INFO:tensorflow:global_step/sec: 1109.82\n",
      "INFO:tensorflow:loss = 23.786808, step = 7501 (0.090 sec)\n",
      "INFO:tensorflow:global_step/sec: 1151.05\n",
      "INFO:tensorflow:loss = 5.443509, step = 7601 (0.087 sec)\n",
      "INFO:tensorflow:global_step/sec: 1106.71\n",
      "INFO:tensorflow:loss = 5.6886673, step = 7701 (0.090 sec)\n",
      "INFO:tensorflow:global_step/sec: 1094.34\n",
      "INFO:tensorflow:loss = 13.865983, step = 7801 (0.091 sec)\n",
      "INFO:tensorflow:global_step/sec: 1292.71\n",
      "INFO:tensorflow:loss = 13.013474, step = 7901 (0.077 sec)\n",
      "INFO:tensorflow:global_step/sec: 1164.24\n"
     ]
    },
    {
     "name": "stdout",
     "output_type": "stream",
     "text": [
      "INFO:tensorflow:loss = 18.02789, step = 8001 (0.086 sec)\n",
      "INFO:tensorflow:global_step/sec: 1185.27\n",
      "INFO:tensorflow:loss = 8.093042, step = 8101 (0.084 sec)\n",
      "INFO:tensorflow:global_step/sec: 1158.78\n",
      "INFO:tensorflow:loss = 9.519501, step = 8201 (0.086 sec)\n",
      "INFO:tensorflow:global_step/sec: 1161.8\n",
      "INFO:tensorflow:loss = 17.835548, step = 8301 (0.086 sec)\n",
      "INFO:tensorflow:global_step/sec: 1285.48\n",
      "INFO:tensorflow:loss = 16.058996, step = 8401 (0.078 sec)\n",
      "INFO:tensorflow:global_step/sec: 1257.01\n",
      "INFO:tensorflow:loss = 29.560345, step = 8501 (0.079 sec)\n",
      "INFO:tensorflow:global_step/sec: 1298.94\n",
      "INFO:tensorflow:loss = 16.887302, step = 8601 (0.078 sec)\n",
      "INFO:tensorflow:global_step/sec: 1229.53\n",
      "INFO:tensorflow:loss = 7.3606596, step = 8701 (0.081 sec)\n",
      "INFO:tensorflow:global_step/sec: 1283.88\n",
      "INFO:tensorflow:loss = 9.531899, step = 8801 (0.078 sec)\n",
      "INFO:tensorflow:global_step/sec: 1216.78\n",
      "INFO:tensorflow:loss = 6.2282705, step = 8901 (0.082 sec)\n",
      "INFO:tensorflow:global_step/sec: 1139.15\n",
      "INFO:tensorflow:loss = 15.385813, step = 9001 (0.088 sec)\n",
      "INFO:tensorflow:global_step/sec: 1218.99\n",
      "INFO:tensorflow:loss = 10.714149, step = 9101 (0.082 sec)\n",
      "INFO:tensorflow:global_step/sec: 1057.74\n",
      "INFO:tensorflow:loss = 10.09062, step = 9201 (0.094 sec)\n",
      "INFO:tensorflow:global_step/sec: 1172.25\n",
      "INFO:tensorflow:loss = 19.784576, step = 9301 (0.085 sec)\n",
      "INFO:tensorflow:global_step/sec: 1088.17\n",
      "INFO:tensorflow:loss = 9.452269, step = 9401 (0.092 sec)\n",
      "INFO:tensorflow:global_step/sec: 1183.58\n",
      "INFO:tensorflow:loss = 15.317217, step = 9501 (0.084 sec)\n",
      "INFO:tensorflow:global_step/sec: 1126.84\n",
      "INFO:tensorflow:loss = 29.177647, step = 9601 (0.089 sec)\n",
      "INFO:tensorflow:global_step/sec: 1174.98\n",
      "INFO:tensorflow:loss = 13.097667, step = 9701 (0.085 sec)\n",
      "INFO:tensorflow:global_step/sec: 1146.82\n",
      "INFO:tensorflow:loss = 26.393494, step = 9801 (0.087 sec)\n",
      "INFO:tensorflow:global_step/sec: 1209.48\n",
      "INFO:tensorflow:loss = 8.0864315, step = 9901 (0.083 sec)\n",
      "INFO:tensorflow:Saving checkpoints for 10000 into /var/folders/7f/wlmrltf57q95bdd5fl85dpw40000gn/T/tmp86d0rc19/model.ckpt.\n",
      "INFO:tensorflow:Loss for final step: 40.547768.\n"
     ]
    },
    {
     "data": {
      "text/plain": [
       "<tensorflow.python.estimator.canned.linear.LinearRegressor at 0x1a286aab38>"
      ]
     },
     "execution_count": 66,
     "metadata": {},
     "output_type": "execute_result"
    }
   ],
   "source": [
    "regressor.train(input_fn = funcao_treinamento, steps = 10000)"
   ]
  },
  {
   "cell_type": "code",
   "execution_count": 67,
   "metadata": {},
   "outputs": [
    {
     "name": "stdout",
     "output_type": "stream",
     "text": [
      "INFO:tensorflow:Calling model_fn.\n",
      "INFO:tensorflow:Done calling model_fn.\n",
      "INFO:tensorflow:Starting evaluation at 2018-10-31-22:25:26\n",
      "INFO:tensorflow:Graph was finalized.\n",
      "INFO:tensorflow:Restoring parameters from /var/folders/7f/wlmrltf57q95bdd5fl85dpw40000gn/T/tmp86d0rc19/model.ckpt-10000\n",
      "INFO:tensorflow:Running local_init_op.\n",
      "INFO:tensorflow:Done running local_init_op.\n",
      "INFO:tensorflow:Evaluation [1000/10000]\n",
      "INFO:tensorflow:Evaluation [2000/10000]\n",
      "INFO:tensorflow:Evaluation [3000/10000]\n",
      "INFO:tensorflow:Evaluation [4000/10000]\n",
      "INFO:tensorflow:Evaluation [5000/10000]\n",
      "INFO:tensorflow:Evaluation [6000/10000]\n",
      "INFO:tensorflow:Evaluation [7000/10000]\n",
      "INFO:tensorflow:Evaluation [8000/10000]\n",
      "INFO:tensorflow:Evaluation [9000/10000]\n",
      "INFO:tensorflow:Evaluation [10000/10000]\n",
      "INFO:tensorflow:Finished evaluation at 2018-10-31-22:25:33\n",
      "INFO:tensorflow:Saving dict for global step 10000: average_loss = 0.51980686, global_step = 10000, label/mean = 0.002639266, loss = 16.63382, prediction/mean = -0.0044750753\n",
      "INFO:tensorflow:Saving 'checkpoint_path' summary for global step 10000: /var/folders/7f/wlmrltf57q95bdd5fl85dpw40000gn/T/tmp86d0rc19/model.ckpt-10000\n"
     ]
    }
   ],
   "source": [
    "metricas_treinamento = regressor.evaluate(input_fn = funcao_treinamento, steps = 10000)"
   ]
  },
  {
   "cell_type": "code",
   "execution_count": 68,
   "metadata": {},
   "outputs": [
    {
     "name": "stdout",
     "output_type": "stream",
     "text": [
      "INFO:tensorflow:Calling model_fn.\n",
      "INFO:tensorflow:Done calling model_fn.\n",
      "INFO:tensorflow:Starting evaluation at 2018-10-31-22:25:34\n",
      "INFO:tensorflow:Graph was finalized.\n",
      "INFO:tensorflow:Restoring parameters from /var/folders/7f/wlmrltf57q95bdd5fl85dpw40000gn/T/tmp86d0rc19/model.ckpt-10000\n",
      "INFO:tensorflow:Running local_init_op.\n",
      "INFO:tensorflow:Done running local_init_op.\n",
      "INFO:tensorflow:Evaluation [1000/10000]\n",
      "INFO:tensorflow:Evaluation [2000/10000]\n",
      "INFO:tensorflow:Evaluation [3000/10000]\n",
      "INFO:tensorflow:Evaluation [4000/10000]\n",
      "INFO:tensorflow:Evaluation [5000/10000]\n",
      "INFO:tensorflow:Evaluation [6000/10000]\n",
      "INFO:tensorflow:Evaluation [7000/10000]\n",
      "INFO:tensorflow:Evaluation [8000/10000]\n",
      "INFO:tensorflow:Evaluation [9000/10000]\n",
      "INFO:tensorflow:Evaluation [10000/10000]\n",
      "INFO:tensorflow:Finished evaluation at 2018-10-31-22:25:42\n",
      "INFO:tensorflow:Saving dict for global step 10000: average_loss = 0.4792587, global_step = 10000, label/mean = -0.006225935, loss = 15.336278, prediction/mean = -0.008654546\n",
      "INFO:tensorflow:Saving 'checkpoint_path' summary for global step 10000: /var/folders/7f/wlmrltf57q95bdd5fl85dpw40000gn/T/tmp86d0rc19/model.ckpt-10000\n"
     ]
    }
   ],
   "source": [
    "metricas_teste = regressor.evaluate(input_fn = funcao_teste, steps = 10000)"
   ]
  },
  {
   "cell_type": "code",
   "execution_count": 69,
   "metadata": {},
   "outputs": [
    {
     "data": {
      "text/plain": [
       "{'average_loss': 0.51980686,\n",
       " 'label/mean': 0.002639266,\n",
       " 'loss': 16.63382,\n",
       " 'prediction/mean': -0.0044750753,\n",
       " 'global_step': 10000}"
      ]
     },
     "execution_count": 69,
     "metadata": {},
     "output_type": "execute_result"
    }
   ],
   "source": [
    "metricas_treinamento"
   ]
  },
  {
   "cell_type": "code",
   "execution_count": 70,
   "metadata": {},
   "outputs": [
    {
     "data": {
      "text/plain": [
       "{'average_loss': 0.4792587,\n",
       " 'label/mean': -0.006225935,\n",
       " 'loss': 15.336278,\n",
       " 'prediction/mean': -0.008654546,\n",
       " 'global_step': 10000}"
      ]
     },
     "execution_count": 70,
     "metadata": {},
     "output_type": "execute_result"
    }
   ],
   "source": [
    "metricas_teste"
   ]
  },
  {
   "cell_type": "code",
   "execution_count": 71,
   "metadata": {},
   "outputs": [
    {
     "data": {
      "text/plain": [
       "array([[ 800],\n",
       "       [ 900],\n",
       "       [1000]])"
      ]
     },
     "execution_count": 71,
     "metadata": {},
     "output_type": "execute_result"
    }
   ],
   "source": [
    "import numpy as np\n",
    "novas_casas = np.array([[800], [900], [1000]])\n",
    "novas_casas"
   ]
  },
  {
   "cell_type": "code",
   "execution_count": 72,
   "metadata": {},
   "outputs": [
    {
     "name": "stderr",
     "output_type": "stream",
     "text": [
      "/anaconda3/lib/python3.6/site-packages/sklearn/utils/validation.py:475: DataConversionWarning: Data with input dtype int64 was converted to float64 by StandardScaler.\n",
      "  warnings.warn(msg, DataConversionWarning)\n"
     ]
    },
    {
     "data": {
      "text/plain": [
       "array([[-1.39358923],\n",
       "       [-1.28470655],\n",
       "       [-1.17582386]])"
      ]
     },
     "execution_count": 72,
     "metadata": {},
     "output_type": "execute_result"
    }
   ],
   "source": [
    "novas_casas = scaler_x.transform(novas_casas)\n",
    "novas_casas"
   ]
  },
  {
   "cell_type": "code",
   "execution_count": 73,
   "metadata": {},
   "outputs": [],
   "source": [
    "funcao_previsao = tf.estimator.inputs.numpy_input_fn({'x': novas_casas}, shuffle = False)"
   ]
  },
  {
   "cell_type": "code",
   "execution_count": 74,
   "metadata": {},
   "outputs": [],
   "source": [
    "previsoes = regressor.predict(input_fn = funcao_previsao)"
   ]
  },
  {
   "cell_type": "code",
   "execution_count": 75,
   "metadata": {},
   "outputs": [
    {
     "data": {
      "text/plain": [
       "<generator object Estimator.predict at 0x1a2858f678>"
      ]
     },
     "execution_count": 75,
     "metadata": {},
     "output_type": "execute_result"
    }
   ],
   "source": [
    "previsoes"
   ]
  },
  {
   "cell_type": "code",
   "execution_count": 76,
   "metadata": {},
   "outputs": [
    {
     "name": "stdout",
     "output_type": "stream",
     "text": [
      "INFO:tensorflow:Calling model_fn.\n",
      "INFO:tensorflow:Done calling model_fn.\n",
      "INFO:tensorflow:Graph was finalized.\n",
      "INFO:tensorflow:Restoring parameters from /var/folders/7f/wlmrltf57q95bdd5fl85dpw40000gn/T/tmp86d0rc19/model.ckpt-10000\n",
      "INFO:tensorflow:Running local_init_op.\n",
      "INFO:tensorflow:Done running local_init_op.\n"
     ]
    },
    {
     "data": {
      "text/plain": [
       "[{'predictions': array([-1.0114704], dtype=float32)},\n",
       " {'predictions': array([-0.9328798], dtype=float32)},\n",
       " {'predictions': array([-0.85428905], dtype=float32)}]"
      ]
     },
     "execution_count": 76,
     "metadata": {},
     "output_type": "execute_result"
    }
   ],
   "source": [
    "list(previsoes)"
   ]
  },
  {
   "cell_type": "code",
   "execution_count": 78,
   "metadata": {},
   "outputs": [
    {
     "name": "stdout",
     "output_type": "stream",
     "text": [
      "INFO:tensorflow:Calling model_fn.\n",
      "INFO:tensorflow:Done calling model_fn.\n",
      "INFO:tensorflow:Graph was finalized.\n",
      "INFO:tensorflow:Restoring parameters from /var/folders/7f/wlmrltf57q95bdd5fl85dpw40000gn/T/tmp86d0rc19/model.ckpt-10000\n",
      "INFO:tensorflow:Running local_init_op.\n",
      "INFO:tensorflow:Done running local_init_op.\n",
      "[168758.42]\n",
      "[197610.52]\n",
      "[226462.64]\n"
     ]
    }
   ],
   "source": [
    "for p in regressor.predict(input_fn = funcao_previsao):\n",
    "    #print(p['predictions'])\n",
    "    print(scaler_y.inverse_transform(p['predictions']))"
   ]
  }
 ],
 "metadata": {
  "kernelspec": {
   "display_name": "Python 3",
   "language": "python",
   "name": "python3"
  },
  "language_info": {
   "codemirror_mode": {
    "name": "ipython",
    "version": 3
   },
   "file_extension": ".py",
   "mimetype": "text/x-python",
   "name": "python",
   "nbconvert_exporter": "python",
   "pygments_lexer": "ipython3",
   "version": "3.6.5"
  }
 },
 "nbformat": 4,
 "nbformat_minor": 2
}
