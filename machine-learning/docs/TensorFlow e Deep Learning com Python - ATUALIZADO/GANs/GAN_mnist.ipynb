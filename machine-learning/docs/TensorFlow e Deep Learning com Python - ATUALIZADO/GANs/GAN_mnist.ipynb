{
 "cells": [
  {
   "cell_type": "code",
   "execution_count": null,
   "metadata": {},
   "outputs": [],
   "source": [
    "import tensorflow.compat.v1 as tf\n",
    "tf.disable_v2_behavior()\n",
    "#carregar o arquivo input_data.py\n",
    "import input_data\n",
    "mnist = input_data.read_data_sets('./mnist/', one_hot = True)"
   ]
  },
  {
   "cell_type": "code",
   "execution_count": null,
   "metadata": {},
   "outputs": [],
   "source": [
    "tf.reset_default_graph()"
   ]
  },
  {
   "cell_type": "code",
   "execution_count": null,
   "metadata": {},
   "outputs": [],
   "source": [
    "import matplotlib.pyplot as plt\n",
    "%matplotlib inline\n",
    "plt.imshow(mnist.train.images[0].reshape(28,28), cmap = 'Greys')"
   ]
  },
  {
   "cell_type": "code",
   "execution_count": null,
   "metadata": {},
   "outputs": [],
   "source": [
    "mnist.train.images[0]"
   ]
  },
  {
   "cell_type": "code",
   "execution_count": null,
   "metadata": {},
   "outputs": [],
   "source": [
    "import numpy as np\n",
    "imagem1 = np.arange(0,784).reshape(28,28)\n",
    "plt.imshow(imagem1)"
   ]
  },
  {
   "cell_type": "code",
   "execution_count": null,
   "metadata": {},
   "outputs": [],
   "source": [
    "imagem2 = np.random.normal(size = 784).reshape(28,28)\n",
    "plt.imshow(imagem2)"
   ]
  },
  {
   "cell_type": "code",
   "execution_count": null,
   "metadata": {},
   "outputs": [],
   "source": [
    "ruido_ph = tf.placeholder(tf.float32, [None, 100])"
   ]
  },
  {
   "cell_type": "code",
   "execution_count": null,
   "metadata": {},
   "outputs": [],
   "source": [
    "def gerador(ruido, reuse = None):\n",
    "    with tf.variable_scope('gerador', reuse = reuse):\n",
    "        # 100 -> 128 -> 128 -> 784\n",
    "        camada_oculta1 = tf.nn.relu(tf.layers.dense(inputs = ruido, units = 128))\n",
    "        camada_oculta2 = tf.nn.relu(tf.layers.dense(inputs = camada_oculta1, units = 128))\n",
    "        camada_saida = tf.layers.dense(inputs = camada_oculta2, units = 784, activation = tf.nn.tanh)\n",
    "        return camada_saida"
   ]
  },
  {
   "cell_type": "code",
   "execution_count": null,
   "metadata": {},
   "outputs": [],
   "source": [
    "imagens_reais_ph = tf.placeholder(tf.float32, [None, 784])"
   ]
  },
  {
   "cell_type": "code",
   "execution_count": null,
   "metadata": {},
   "outputs": [],
   "source": [
    "def discriminador(X, reuse = None):\n",
    "    with tf.variable_scope('discriminador', reuse = reuse):\n",
    "        # 784 -> 128 -> 128 -> 1\n",
    "        camada_oculta1 = tf.nn.relu(tf.layers.dense(inputs = X, units = 128))\n",
    "        camada_oculta2 = tf.nn.relu(tf.layers.dense(inputs = camada_oculta1, units = 128))\n",
    "        logits = tf.layers.dense(camada_oculta2, units = 1)\n",
    "        return logits"
   ]
  },
  {
   "cell_type": "code",
   "execution_count": null,
   "metadata": {},
   "outputs": [],
   "source": [
    "logits_imagens_reais = discriminador(imagens_reais_ph)\n",
    "logits_imagens_ruido = discriminador(gerador(ruido_ph), reuse = True)\n",
    "\n",
    "erro_discriminador_real = tf.reduce_mean(tf.nn.sigmoid_cross_entropy_with_logits(logits = logits_imagens_reais,\n",
    "                                                                                labels = tf.ones_like(logits_imagens_reais) * (0.9)))\n",
    "erro_discriminador_ruido = tf.reduce_mean(tf.nn.sigmoid_cross_entropy_with_logits(logits = logits_imagens_ruido,\n",
    "                                                                                 labels = tf.zeros_like(logits_imagens_ruido)))\n",
    "erro_discriminador = erro_discriminador_real + erro_discriminador_ruido\n",
    "\n",
    "erro_gerador = tf.reduce_mean(tf.nn.sigmoid_cross_entropy_with_logits(logits = logits_imagens_ruido,\n",
    "                                                                     labels = tf.ones_like(logits_imagens_ruido)))\n"
   ]
  },
  {
   "cell_type": "code",
   "execution_count": null,
   "metadata": {},
   "outputs": [],
   "source": [
    "variaveis = tf.trainable_variables()\n",
    "variaveis"
   ]
  },
  {
   "cell_type": "code",
   "execution_count": null,
   "metadata": {},
   "outputs": [],
   "source": [
    "variaveis_discriminador = [v for v in variaveis if 'discriminador' in v.name]\n",
    "print([v.name for v in variaveis_discriminador])"
   ]
  },
  {
   "cell_type": "code",
   "execution_count": null,
   "metadata": {},
   "outputs": [],
   "source": [
    "variaveis_gerador = [v for v in variaveis if 'gerador' in v.name]\n",
    "print([v.name for v in variaveis_gerador])"
   ]
  },
  {
   "cell_type": "code",
   "execution_count": null,
   "metadata": {},
   "outputs": [],
   "source": [
    "treinamento_discriminador = tf.train.AdamOptimizer(learning_rate = 0.001).minimize(erro_discriminador,\n",
    "                                                                                  var_list = variaveis_discriminador)\n",
    "treinamento_gerador = tf.train.AdamOptimizer(learning_rate = 0.001).minimize(erro_gerador,\n",
    "                                                                            var_list = variaveis_gerador)"
   ]
  },
  {
   "cell_type": "code",
   "execution_count": null,
   "metadata": {},
   "outputs": [],
   "source": [
    "batch_size = 100\n",
    "amostras_teste = []\n",
    "with tf.Session() as sess:\n",
    "    sess.run(tf.global_variables_initializer())\n",
    "    \n",
    "    #ruido_teste = np.random.uniform(-1, 1, size = (1,100))\n",
    "    #amostra = sess.run(gerador(ruido_ph, True), feed_dict = {ruido_ph: ruido_teste})\n",
    "    \n",
    "    #batch = mnist.train.next_batch(100)\n",
    "    #imagens_batch = batch[0].reshape((100, 784))\n",
    "    #imagens_batch = imagens_batch * 2 - 1\n",
    "    #r = sess.run(discriminador(imagens_reais_ph, True), feed_dict = {imagens_reais_ph: imagens_batch})\n",
    "    #r2 = sess.run(tf.nn.sigmoid(r))\n",
    "    #ex = tf.constant([[1,2],[3,4]])\n",
    "    #print(sess.run(tf.ones_like(ex)))\n",
    "    \n",
    "    for epoca in range(300):\n",
    "        numero_batches = mnist.train.num_examples // batch_size\n",
    "        for i in range(numero_batches):\n",
    "            batch = mnist.train.next_batch(batch_size)\n",
    "            imagens_batch = batch[0].reshape((100, 784))\n",
    "            imagens_batch = imagens_batch * 2 - 1\n",
    "            \n",
    "            batch_ruido = np.random.uniform(-1, 1, size = (batch_size, 100))\n",
    "            \n",
    "            _, custod = sess.run([treinamento_discriminador, erro_discriminador], \n",
    "                                 feed_dict = {imagens_reais_ph: imagens_batch, ruido_ph: batch_ruido})\n",
    "            _, custog = sess.run([treinamento_gerador, erro_gerador], feed_dict = {ruido_ph: batch_ruido})\n",
    "            \n",
    "        print('época: ' + str(epoca + 1) + ' erro D: ' + str(custod) + ' erro G: ' + str(custog))\n",
    "        \n",
    "        ruido_teste = np.random.uniform(-1, 1, size = (1, 100))\n",
    "        imagem_gerada = sess.run(gerador(ruido_ph, reuse = True), feed_dict = {ruido_ph: ruido_teste})\n",
    "        amostras_teste.append(imagem_gerada)\n",
    "            \n",
    "            "
   ]
  },
  {
   "cell_type": "code",
   "execution_count": null,
   "metadata": {},
   "outputs": [],
   "source": [
    "amostra.shape"
   ]
  },
  {
   "cell_type": "code",
   "execution_count": null,
   "metadata": {},
   "outputs": [],
   "source": [
    "plt.imshow(amostra.reshape(28,28))"
   ]
  },
  {
   "cell_type": "code",
   "execution_count": null,
   "metadata": {},
   "outputs": [],
   "source": [
    "batch = mnist.train.next_batch(100)\n",
    "batch[0].shape\n",
    "imagens_batch = batch[0].reshape((100, 784))"
   ]
  },
  {
   "cell_type": "code",
   "execution_count": null,
   "metadata": {},
   "outputs": [],
   "source": [
    "imagens_batch.shape"
   ]
  },
  {
   "cell_type": "code",
   "execution_count": null,
   "metadata": {},
   "outputs": [],
   "source": [
    "imagens_batch[0]"
   ]
  },
  {
   "cell_type": "code",
   "execution_count": null,
   "metadata": {},
   "outputs": [],
   "source": [
    "imagens_batch = imagens_batch * 2 - 1\n",
    "imagens_batch[0]"
   ]
  },
  {
   "cell_type": "code",
   "execution_count": null,
   "metadata": {},
   "outputs": [],
   "source": [
    "r.shape"
   ]
  },
  {
   "cell_type": "code",
   "execution_count": null,
   "metadata": {},
   "outputs": [],
   "source": [
    "r"
   ]
  },
  {
   "cell_type": "code",
   "execution_count": null,
   "metadata": {},
   "outputs": [],
   "source": [
    "r2"
   ]
  },
  {
   "cell_type": "code",
   "execution_count": null,
   "metadata": {},
   "outputs": [],
   "source": [
    "plt.imshow(amostras_teste[299].reshape(28,28))"
   ]
  },
  {
   "cell_type": "code",
   "execution_count": null,
   "metadata": {},
   "outputs": [],
   "source": []
  },
  {
   "cell_type": "code",
   "execution_count": null,
   "metadata": {},
   "outputs": [],
   "source": []
  },
  {
   "cell_type": "code",
   "execution_count": null,
   "metadata": {},
   "outputs": [],
   "source": []
  },
  {
   "cell_type": "code",
   "execution_count": null,
   "metadata": {},
   "outputs": [],
   "source": []
  },
  {
   "cell_type": "code",
   "execution_count": null,
   "metadata": {},
   "outputs": [],
   "source": []
  },
  {
   "cell_type": "code",
   "execution_count": null,
   "metadata": {},
   "outputs": [],
   "source": []
  },
  {
   "cell_type": "code",
   "execution_count": null,
   "metadata": {},
   "outputs": [],
   "source": []
  },
  {
   "cell_type": "code",
   "execution_count": null,
   "metadata": {},
   "outputs": [],
   "source": []
  },
  {
   "cell_type": "code",
   "execution_count": null,
   "metadata": {},
   "outputs": [],
   "source": []
  }
 ],
 "metadata": {
  "kernelspec": {
   "display_name": "Python 3",
   "language": "python",
   "name": "python3"
  },
  "language_info": {
   "codemirror_mode": {
    "name": "ipython",
    "version": 3
   },
   "file_extension": ".py",
   "mimetype": "text/x-python",
   "name": "python",
   "nbconvert_exporter": "python",
   "pygments_lexer": "ipython3",
   "version": "3.7.4"
  }
 },
 "nbformat": 4,
 "nbformat_minor": 2
}
