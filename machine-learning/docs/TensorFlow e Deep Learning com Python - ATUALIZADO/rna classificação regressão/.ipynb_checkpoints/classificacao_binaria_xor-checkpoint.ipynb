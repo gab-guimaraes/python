{
 "cells": [
  {
   "cell_type": "code",
   "execution_count": null,
   "metadata": {},
   "outputs": [],
   "source": [
    "import tensorflow.compat.v1 as tf\n",
    "tf.disable_v2_behavior()\n",
    "import numpy as np\n",
    "\n",
    "X = np.array([[0,0], [0,1], [1,0], [1,1]])\n",
    "X"
   ]
  },
  {
   "cell_type": "code",
   "execution_count": null,
   "metadata": {},
   "outputs": [],
   "source": [
    "y = np.array([[1], [0], [0], [1]])\n",
    "y"
   ]
  },
  {
   "cell_type": "code",
   "execution_count": null,
   "metadata": {},
   "outputs": [],
   "source": [
    "neuronios_entrada = 2\n",
    "neuronios_oculta = 3\n",
    "neuronios_saida = 1"
   ]
  },
  {
   "cell_type": "code",
   "execution_count": null,
   "metadata": {},
   "outputs": [],
   "source": [
    "W = {'oculta': tf.Variable(tf.random_normal([neuronios_entrada, neuronios_oculta]), name = 'w_oculta'), \n",
    "     'saida': tf.Variable(tf.random_normal([neuronios_oculta, neuronios_saida]), name = 'w_saida')}"
   ]
  },
  {
   "cell_type": "code",
   "execution_count": null,
   "metadata": {},
   "outputs": [],
   "source": [
    "type(W)"
   ]
  },
  {
   "cell_type": "code",
   "execution_count": null,
   "metadata": {},
   "outputs": [],
   "source": [
    "type(W['oculta'])"
   ]
  },
  {
   "cell_type": "code",
   "execution_count": null,
   "metadata": {},
   "outputs": [],
   "source": [
    "W['oculta']"
   ]
  },
  {
   "cell_type": "code",
   "execution_count": null,
   "metadata": {},
   "outputs": [],
   "source": [
    "W['saida']"
   ]
  },
  {
   "cell_type": "code",
   "execution_count": null,
   "metadata": {},
   "outputs": [],
   "source": [
    "distribuicao = np.random.normal(size = 500)\n",
    "#distribuicao\n",
    "import seaborn as sns\n",
    "%matplotlib inline\n",
    "sns.distplot(distribuicao)"
   ]
  },
  {
   "cell_type": "code",
   "execution_count": null,
   "metadata": {},
   "outputs": [],
   "source": [
    "b = {'oculta': tf.Variable(tf.random_normal([neuronios_oculta]), name = 'b_oculta'),\n",
    "     'saida': tf.Variable(tf.random_normal([neuronios_saida]), name = 'b_saida')}"
   ]
  },
  {
   "cell_type": "code",
   "execution_count": null,
   "metadata": {},
   "outputs": [],
   "source": [
    "xph = tf.placeholder(tf.float32, [4, neuronios_entrada], name = 'xph')\n",
    "yph = tf.placeholder(tf.float32, [4, neuronios_saida], name = 'yph')"
   ]
  },
  {
   "cell_type": "code",
   "execution_count": null,
   "metadata": {},
   "outputs": [],
   "source": [
    "camada_oculta = tf.add(tf.matmul(xph, W['oculta']), b['oculta'])\n",
    "camada_oculta_ativacao = tf.sigmoid(camada_oculta)\n",
    "camada_saida = tf.add(tf.matmul(camada_oculta_ativacao, W['saida']), b['saida'])\n",
    "camada_saida_ativacao = tf.sigmoid(camada_saida)\n",
    "erro = tf.losses.mean_squared_error(yph, camada_saida_ativacao)\n",
    "otimizador = tf.train.GradientDescentOptimizer(learning_rate = 0.3).minimize(erro)"
   ]
  },
  {
   "cell_type": "code",
   "execution_count": null,
   "metadata": {},
   "outputs": [],
   "source": [
    "init = tf.global_variables_initializer()"
   ]
  },
  {
   "cell_type": "code",
   "execution_count": null,
   "metadata": {},
   "outputs": [],
   "source": [
    "with tf.Session() as sess:\n",
    "    sess.run(init)\n",
    "    #print(sess.run(W['oculta']))\n",
    "    #print(sess.run(W['saida']))\n",
    "    #print(sess.run(b['oculta']))\n",
    "    #print('\\n')\n",
    "    #print(sess.run(b['saida']))\n",
    "    #print(sess.run(camada_oculta, feed_dict = {xph: X}))\n",
    "    #print(sess.run(camada_oculta_ativacao, feed_dict = {xph: X}))\n",
    "    #print(sess.run(camada_saida, feed_dict = {xph: X}))\n",
    "    #print(sess.run(camada_saida_ativacao, feed_dict = {xph: X}))\n",
    "    for epocas in range(10000):\n",
    "        erro_medio = 0\n",
    "        _, custo = sess.run([otimizador, erro], feed_dict = {xph: X, yph: y})\n",
    "        if epocas % 200 == 0:\n",
    "            #print(custo)\n",
    "            erro_medio += custo / 4\n",
    "            print(erro_medio)\n",
    "    W_final, b_final = sess.run([W, b])\n",
    "            "
   ]
  },
  {
   "cell_type": "code",
   "execution_count": null,
   "metadata": {},
   "outputs": [],
   "source": [
    "W_final"
   ]
  },
  {
   "cell_type": "code",
   "execution_count": null,
   "metadata": {},
   "outputs": [],
   "source": [
    "b_final"
   ]
  },
  {
   "cell_type": "code",
   "execution_count": null,
   "metadata": {},
   "outputs": [],
   "source": [
    "# teste\n",
    "camada_oculta_teste = tf.add(tf.matmul(xph, W_final['oculta']), b_final['oculta'])\n",
    "camada_oculta_ativacao_teste = tf.sigmoid(camada_oculta_teste)\n",
    "camada_saida_teste = tf.add(tf.matmul(camada_oculta_ativacao_teste, W_final['saida']), b_final['saida'])\n",
    "camada_saida_ativacao_teste = tf.sigmoid(camada_saida_teste)"
   ]
  },
  {
   "cell_type": "code",
   "execution_count": null,
   "metadata": {},
   "outputs": [],
   "source": [
    "with tf.Session() as sess:\n",
    "    sess.run(init)\n",
    "    print(sess.run(camada_saida_ativacao_teste, feed_dict = {xph: X}))"
   ]
  },
  {
   "cell_type": "code",
   "execution_count": null,
   "metadata": {},
   "outputs": [],
   "source": []
  }
 ],
 "metadata": {
  "kernelspec": {
   "display_name": "Python 3",
   "language": "python",
   "name": "python3"
  },
  "language_info": {
   "codemirror_mode": {
    "name": "ipython",
    "version": 3
   },
   "file_extension": ".py",
   "mimetype": "text/x-python",
   "name": "python",
   "nbconvert_exporter": "python",
   "pygments_lexer": "ipython3",
   "version": "3.7.4"
  }
 },
 "nbformat": 4,
 "nbformat_minor": 2
}
