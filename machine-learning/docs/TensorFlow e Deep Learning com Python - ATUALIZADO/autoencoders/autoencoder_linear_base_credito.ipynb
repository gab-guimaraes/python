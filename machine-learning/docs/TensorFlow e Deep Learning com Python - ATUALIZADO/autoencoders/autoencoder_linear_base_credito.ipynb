{
 "cells": [
  {
   "cell_type": "code",
   "execution_count": null,
   "metadata": {},
   "outputs": [],
   "source": [
    "import pandas as pd\n",
    "base = pd.read_csv('credit_data.csv')\n",
    "base = base.drop('i#clientid', axis = 1)\n",
    "base = base.dropna()\n",
    "from sklearn.preprocessing import StandardScaler\n",
    "scaler_x = StandardScaler()\n",
    "base[['income', 'age', 'loan']] = scaler_x.fit_transform(base[['income', 'age', 'loan']])\n",
    "X = base.drop('c#default', axis = 1)\n",
    "y = base['c#default']\n",
    "X.head()"
   ]
  },
  {
   "cell_type": "code",
   "execution_count": null,
   "metadata": {},
   "outputs": [],
   "source": [
    "neuronios_entrada = 3\n",
    "neuronios_oculta = 2\n",
    "neuronios_saida = neuronios_entrada\n",
    "# 3 -> 2 -> 3"
   ]
  },
  {
   "cell_type": "code",
   "execution_count": null,
   "metadata": {},
   "outputs": [],
   "source": [
    "import tensorflow.compat.v1 as tf\n",
    "tf.disable_v2_behavior()\n",
    "from tensorflow.keras import Model, layers"
   ]
  },
  {
   "cell_type": "code",
   "execution_count": null,
   "metadata": {},
   "outputs": [],
   "source": [
    "xph = tf.placeholder(tf.float32, shape = [None, neuronios_entrada])"
   ]
  },
  {
   "cell_type": "code",
   "execution_count": null,
   "metadata": {},
   "outputs": [],
   "source": [
    "camada_oculta = tf.layers.dense(units = neuronios_oculta, inputs = xph, activation = None)\n",
    "camada_saida = tf.layers.dense(units = neuronios_saida, inputs = camada_oculta)"
   ]
  },
  {
   "cell_type": "code",
   "execution_count": null,
   "metadata": {},
   "outputs": [],
   "source": [
    "erro = tf.losses.mean_squared_error(labels = xph, predictions = camada_saida)\n",
    "otimizador = tf.train.AdamOptimizer(0.01)\n",
    "treinamento = otimizador.minimize(erro)"
   ]
  },
  {
   "cell_type": "code",
   "execution_count": null,
   "metadata": {},
   "outputs": [],
   "source": [
    "with tf.Session() as sess:\n",
    "    sess.run(tf.global_variables_initializer())\n",
    "    for epoca in range(1000):\n",
    "        custo, _ = sess.run([erro, treinamento], feed_dict = {xph: X})\n",
    "        if epoca % 100 == 0:\n",
    "            print('erro: ' + str(custo))\n",
    "    X2d_encode = sess.run(camada_oculta, feed_dict = {xph: X})\n",
    "    X3d_decode = sess.run(camada_saida, feed_dict = {xph: X})"
   ]
  },
  {
   "cell_type": "code",
   "execution_count": null,
   "metadata": {},
   "outputs": [],
   "source": [
    "X2d_encode.shape"
   ]
  },
  {
   "cell_type": "code",
   "execution_count": null,
   "metadata": {},
   "outputs": [],
   "source": [
    "X3d_decode.shape"
   ]
  },
  {
   "cell_type": "code",
   "execution_count": null,
   "metadata": {},
   "outputs": [],
   "source": [
    "X2 = scaler_x.inverse_transform(X)\n",
    "X2"
   ]
  },
  {
   "cell_type": "code",
   "execution_count": null,
   "metadata": {},
   "outputs": [],
   "source": [
    "X3d_decode2 = scaler_x.inverse_transform(X3d_decode)\n",
    "X3d_decode2"
   ]
  },
  {
   "cell_type": "code",
   "execution_count": null,
   "metadata": {},
   "outputs": [],
   "source": [
    "from sklearn.metrics import mean_absolute_error\n",
    "mae_income = mean_absolute_error(X2[:,0], X3d_decode2[:,0])\n",
    "mae_income"
   ]
  },
  {
   "cell_type": "code",
   "execution_count": null,
   "metadata": {},
   "outputs": [],
   "source": [
    "mae_age = mean_absolute_error(X2[:,1], X3d_decode2[:,1])\n",
    "mae_age"
   ]
  },
  {
   "cell_type": "code",
   "execution_count": null,
   "metadata": {},
   "outputs": [],
   "source": [
    "mae_loan = mean_absolute_error(X2[:,2], X3d_decode2[:,2])\n",
    "mae_loan"
   ]
  },
  {
   "cell_type": "code",
   "execution_count": null,
   "metadata": {},
   "outputs": [],
   "source": [
    "X_encode = pd.DataFrame({'atributo1': X2d_encode[:,0], 'atributo2': X2d_encode[:,1], 'classe': y})"
   ]
  },
  {
   "cell_type": "code",
   "execution_count": null,
   "metadata": {},
   "outputs": [],
   "source": [
    "X_encode.head()"
   ]
  },
  {
   "cell_type": "code",
   "execution_count": null,
   "metadata": {},
   "outputs": [],
   "source": [
    "import tensorflow.compat.v1 as tf\n",
    "colunas = [tf.feature_column.numeric_column(key = column) for column in X_encode.columns]\n",
    "from sklearn.model_selection import train_test_split\n",
    "X_treinamento, X_teste, y_treinamento, y_teste = train_test_split(X_encode, y, test_size = 0.3, random_state = 0)\n",
    "funcao_treinamento = tf.estimator.inputs.pandas_input_fn(x = X_treinamento,\n",
    "                                                        y = y_treinamento,\n",
    "                                                        batch_size = 8, \n",
    "                                                        num_epochs = None,\n",
    "                                                        shuffle = True)\n",
    "classificador = tf.estimator.DNNClassifier(feature_columns = colunas, hidden_units = [4, 4])\n",
    "classificador.train(input_fn = funcao_treinamento, steps = 1000)\n",
    "funcao_teste = tf.estimator.inputs.pandas_input_fn(x = X_teste, y = y_teste,\n",
    "                                              batch_size = 8, num_epochs = 1000,\n",
    "                                              shuffle = False)\n",
    "metricas_teste = classificador.evaluate(input_fn = funcao_teste, steps = 1000)"
   ]
  },
  {
   "cell_type": "code",
   "execution_count": null,
   "metadata": {},
   "outputs": [],
   "source": [
    "metricas_teste"
   ]
  },
  {
   "cell_type": "code",
   "execution_count": null,
   "metadata": {},
   "outputs": [],
   "source": []
  },
  {
   "cell_type": "code",
   "execution_count": null,
   "metadata": {},
   "outputs": [],
   "source": []
  },
  {
   "cell_type": "code",
   "execution_count": null,
   "metadata": {},
   "outputs": [],
   "source": []
  }
 ],
 "metadata": {
  "kernelspec": {
   "display_name": "Python 3",
   "language": "python",
   "name": "python3"
  },
  "language_info": {
   "codemirror_mode": {
    "name": "ipython",
    "version": 3
   },
   "file_extension": ".py",
   "mimetype": "text/x-python",
   "name": "python",
   "nbconvert_exporter": "python",
   "pygments_lexer": "ipython3",
   "version": "3.7.4"
  }
 },
 "nbformat": 4,
 "nbformat_minor": 2
}
